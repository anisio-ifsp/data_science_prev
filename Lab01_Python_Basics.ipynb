{
    "cells": [
        {
            "cell_type": "markdown",
            "metadata": {},
            "source": [
                "### Introdução à Linguagem Python e suas Estruturas Básicas"
            ]
        },
        {
            "cell_type": "code",
            "execution_count": 11,
            "metadata": {},
            "outputs": [
                {
                    "name": "stdout",
                    "output_type": "stream",
                    "text": [
                        "Python é uma linguagem de programação de alto nível, interpretada e de tipagem dinâmica.\n"
                    ]
                }
            ],
            "source": [
                "# 1. Introdução\n",
                "print(\"Python é uma linguagem de programação de alto nível, interpretada e de tipagem dinâmica.\")"
            ]
        },
        {
            "cell_type": "code",
            "execution_count": 12,
            "metadata": {},
            "outputs": [
                {
                    "name": "stdout",
                    "output_type": "stream",
                    "text": [
                        "Inteiro: 10, Flutuante: 10.5, Texto: Olá, Python!, Booleano: True\n"
                    ]
                }
            ],
            "source": [
                "# 2. Variáveis e Tipos de Dados\n",
                "inteiro = 10\n",
                "flutuante = 10.5\n",
                "texto = \"Olá, Python!\"\n",
                "booleano = True\n",
                "\n",
                "print(f\"Inteiro: {inteiro}, Flutuante: {flutuante}, Texto: {texto}, Booleano: {booleano}\")"
            ]
        },
        {
            "cell_type": "code",
            "execution_count": null,
            "metadata": {},
            "outputs": [
                {
                    "name": "stdout",
                    "output_type": "stream",
                    "text": [
                        "O número é ímpar\n"
                    ]
                }
            ],
            "source": [
                "# 3. Estruturas Condicionais\n",
                "numero = 7\n",
                "if numero % 2 == 0:  #python é orientado a indentação\n",
                "    print(\"O número é par\")\n",
                "elif numero > 8:\n",
                "    print(\"O número é maior que 8.\")\n",
                "else:\n",
                "    print(\"O número é ímpar\")\n",
                "\n"
            ]
        },
        {
            "cell_type": "code",
            "execution_count": 14,
            "metadata": {},
            "outputs": [
                {
                    "name": "stdout",
                    "output_type": "stream",
                    "text": [
                        "Contagem de 1 a 5 usando for:\n",
                        "1\n",
                        "2\n",
                        "3\n",
                        "4\n",
                        "5\n",
                        "Contagem regressiva de 5 a 1 usando while:\n",
                        "5\n",
                        "4\n",
                        "3\n",
                        "2\n",
                        "1\n"
                    ]
                }
            ],
            "source": [
                "# 4. Estruturas de Repetição\n",
                "print(\"Contagem de 1 a 5 usando for:\")\n",
                "for i in range(1, 6):\n",
                "    print(i)\n",
                "\n",
                "print(\"Contagem regressiva de 5 a 1 usando while:\")\n",
                "contador = 5\n",
                "while contador > 0:\n",
                "    print(contador)\n",
                "    contador -= 1"
            ]
        },
        {
            "cell_type": "code",
            "execution_count": null,
            "metadata": {},
            "outputs": [
                {
                    "name": "stdout",
                    "output_type": "stream",
                    "text": [
                        "Lista original: [1, 2, 3, 4, 5]\n",
                        "Lista após adicionar um elemento: [1, 2, 3, 4, 5, 6]\n",
                        "Elemento na posição 2: 3\n",
                        "Lista depois do Pop [1, 2, 4, 5, 6]\n",
                        "Lista depois do Insert [1, 2, 10, 4, 5, 6]\n",
                        "Tamanho da lista:  6\n",
                        "Soma dos elementos da lista:  28\n",
                        "False\n",
                        "Lista depois de concatenar [1, 2, 10, 4, 5, 6, 45, 77, 83, 100]\n"
                    ]
                }
            ],
            "source": [
                "# 5. Listas\n",
                "lista = [1, 2, 3, 4, 5]  # O espaço em branco é ignorado dentro dos parênteses e conchetes, o primeiro elemento é 0\n",
                "print(\"Lista original:\", lista)\n",
                "lista.append(6)\n",
                "print(\"Lista após adicionar um elemento:\", lista)\n",
                "print(\"Elemento na posição 2:\", lista[2])\n",
                "\n",
                "lista.pop(2) # Posição na lista\n",
                "\n",
                "print(\"Lista depois do Pop\", lista)\n",
                "\n",
                "lista.insert(2, 10)\n",
                "\n",
                "print(\"Lista depois do Insert\", lista)\n",
                "\n",
                "# Tamanho de uma lista\n",
                "print (\"Tamanho da lista: \", len(lista))\n",
                "\n",
                "# Somar elementos\n",
                "print (\"Soma dos elementos da lista: \",sum(lista))\n",
                "\n",
                "# Procurar um item na lista\n",
                "print(55 in lista)\n",
                "\n",
                "# Concatenar listas\n",
                "lista.extend([45,77,83,100])\n",
                "\n",
                "print(\"Lista depois de concatenar\", lista)\n",
                "\n"
            ]
        },
        {
            "cell_type": "code",
            "execution_count": 16,
            "metadata": {},
            "outputs": [
                {
                    "name": "stdout",
                    "output_type": "stream",
                    "text": [
                        "Dicionário: {'nome': 'Alice', 'idade': 25, 'cidade': 'São Paulo'}\n",
                        "Nome: Alice\n"
                    ]
                }
            ],
            "source": [
                "# 6. Dicionários\n",
                "dicionario = {\"nome\": \"Alice\", \"idade\": 25, \"cidade\": \"São Paulo\"}\n",
                "print(\"Dicionário:\", dicionario)\n",
                "print(\"Nome:\", dicionario[\"nome\"])"
            ]
        },
        {
            "cell_type": "code",
            "execution_count": 10,
            "metadata": {},
            "outputs": [
                {
                    "name": "stdout",
                    "output_type": "stream",
                    "text": [
                        "Olá, Carlos! Seja bem-vindo ao Python.\n",
                        "Hello World\n",
                        "Olá, Hello World! Seja bem-vindo ao Python.\n"
                    ]
                }
            ],
            "source": [
                "# 7. Funções\n",
                "def saudacao(nome):\n",
                "    return f\"Olá, {nome}! Seja bem-vindo ao Python.\"\n",
                "\n",
                "print(saudacao(\"Carlos\"))\n",
                "\n",
                "\n",
                "#Mensagem padrão\n",
                "def my_print(message = \"Hello World\"):\n",
                "    return message\n",
                "\n",
                "print(my_print())\n",
                "\n",
                "print(saudacao(my_print()))\n",
                "\n"
            ]
        },
        {
            "cell_type": "code",
            "execution_count": 11,
            "metadata": {},
            "outputs": [
                {
                    "name": "stdout",
                    "output_type": "stream",
                    "text": [
                        "Divisão de zero\n"
                    ]
                }
            ],
            "source": [
                "# 8. Exceções\n",
                "try:\n",
                "    print(0/0)\n",
                "except:\n",
                "    print(\"Divisão de zero\")"
            ]
        },
        {
            "cell_type": "code",
            "execution_count": null,
            "metadata": {},
            "outputs": [
                {
                    "name": "stdout",
                    "output_type": "stream",
                    "text": [
                        "True\n"
                    ]
                }
            ],
            "source": [
                "# 9. Valores Nulos\n",
                "x = None\n",
                "print(x is None)\n",
                "\n",
                "# is compara se dois objetos são exatamente o mesmo na memória.\n",
                "\n",
                "# == compara se os valores são equivalentes."
            ]
        },
        {
            "cell_type": "code",
            "execution_count": 18,
            "metadata": {},
            "outputs": [
                {
                    "name": "stdout",
                    "output_type": "stream",
                    "text": [
                        "Meu nome é Maria e tenho 30 anos.\n"
                    ]
                }
            ],
            "source": [
                "# 8. Classes e Objetos\n",
                "class Pessoa:\n",
                "    def __init__(self, nome, idade):\n",
                "        self.nome = nome\n",
                "        self.idade = idade\n",
                "    \n",
                "    def apresentar(self):\n",
                "        return f\"Meu nome é {self.nome} e tenho {self.idade} anos.\"\n",
                "\n",
                "pessoa1 = Pessoa(\"Maria\", 30)\n",
                "print(pessoa1.apresentar())"
            ]
        },
        {
            "cell_type": "markdown",
            "metadata": {},
            "source": [
                "# Exercícios\n",
                "\n",
                "# 1. Sistema de Categorização Numérica\n",
                "\n",
                "## 🎯 Objetivo\n",
                "Desenvolver um programa em Python que categorize números inteiros em pares e ímpares, apresentando os resultados de forma clara e organizada.\n",
                "\n",
                "## 📝 Tarefas\n",
                "\n",
                "### 1.1 Entrada \n",
                "- Receber uma lista de inteiros: `[n1, n2, n3, ..., nN]`\n",
                "\n",
                "### 1.2 Classificação dos Números\n",
                "- Criar um dicionário contendo os valores de números pares e ímpares.\n",
                "```python\n",
                "{\n",
                "    \"pares\": [lista_de_pares],\n",
                "    \"impares\": [lista_de_impares]\n",
                "}\n",
                "\n",
                "```\n",
                "\n",
                "### 1.3 Estruturação dos Resultados\n",
                "- Imprima o dicionário e a soma de cada grupo\n",
                "\n",
                "### 📝 Exemplo Prático\n",
                "\n",
                "#### Entrada:\n",
                "```python\n",
                "categoria.categorizar([1, 7, 10, 13, 22])\n",
                "```\n",
                "\n",
                "#### Saída:\n",
                "```bash\n",
                "🗋 Resultados:\n",
                "Pares: [10, 22] (Soma: 32)\n",
                "Ímpares: [1, 7, 13] (Soma: 21)\n",
                "\n",
                "📊 Dicionário Completo:\n",
                "{\n",
                "    'pares': [10, 22],\n",
                "    'impares': [1, 7, 13]\n",
                "}\n",
                "```\n",
                "\n",
                "\n"
            ]
        },
        {
            "cell_type": "code",
            "execution_count": null,
            "metadata": {},
            "outputs": [],
            "source": []
        }
    ],
    "metadata": {
        "kernelspec": {
            "display_name": "Python 3",
            "language": "python",
            "name": "python3"
        },
        "language_info": {
            "codemirror_mode": {
                "name": "ipython",
                "version": 3
            },
            "file_extension": ".py",
            "mimetype": "text/x-python",
            "name": "python",
            "nbconvert_exporter": "python",
            "pygments_lexer": "ipython3",
            "version": "3.12.4"
        }
    },
    "nbformat": 4,
    "nbformat_minor": 4
}
