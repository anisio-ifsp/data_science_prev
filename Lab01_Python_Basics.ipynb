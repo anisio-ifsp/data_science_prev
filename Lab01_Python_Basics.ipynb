{
    "cells": [
        {
            "cell_type": "markdown",
            "metadata": {},
            "source": [
                "### Introdução à Linguagem Python e suas Estruturas Básicas"
            ]
        },
        {
            "cell_type": "code",
            "execution_count": 11,
            "metadata": {},
            "outputs": [
                {
                    "name": "stdout",
                    "output_type": "stream",
                    "text": [
                        "Python é uma linguagem de programação de alto nível, interpretada e de tipagem dinâmica.\n"
                    ]
                }
            ],
            "source": [
                "# 1. Introdução\n",
                "print(\"Python é uma linguagem de programação de alto nível, interpretada e de tipagem dinâmica.\")"
            ]
        },
        {
            "cell_type": "code",
            "execution_count": 12,
            "metadata": {},
            "outputs": [
                {
                    "name": "stdout",
                    "output_type": "stream",
                    "text": [
                        "Inteiro: 10, Flutuante: 10.5, Texto: Olá, Python!, Booleano: True\n"
                    ]
                }
            ],
            "source": [
                "# 2. Variáveis e Tipos de Dados\n",
                "inteiro = 10\n",
                "flutuante = 10.5\n",
                "texto = \"Olá, Python!\"\n",
                "booleano = True\n",
                "\n",
                "print(f\"Inteiro: {inteiro}, Flutuante: {flutuante}, Texto: {texto}, Booleano: {booleano}\")"
            ]
        },
        {
            "cell_type": "code",
            "execution_count": 13,
            "metadata": {},
            "outputs": [
                {
                    "name": "stdout",
                    "output_type": "stream",
                    "text": [
                        "O número é ímpar\n"
                    ]
                }
            ],
            "source": [
                "# 3. Estruturas Condicionais\n",
                "numero = 7\n",
                "if numero % 2 == 0:\n",
                "    print(\"O número é par\")\n",
                "elif numero > 8:\n",
                "    print(\"O número é maior que 8.\")\n",
                "else:\n",
                "    print(\"O número é ímpar\")\n",
                "\n"
            ]
        },
        {
            "cell_type": "code",
            "execution_count": 14,
            "metadata": {},
            "outputs": [
                {
                    "name": "stdout",
                    "output_type": "stream",
                    "text": [
                        "Contagem de 1 a 5 usando for:\n",
                        "1\n",
                        "2\n",
                        "3\n",
                        "4\n",
                        "5\n",
                        "Contagem regressiva de 5 a 1 usando while:\n",
                        "5\n",
                        "4\n",
                        "3\n",
                        "2\n",
                        "1\n"
                    ]
                }
            ],
            "source": [
                "# 4. Estruturas de Repetição\n",
                "print(\"Contagem de 1 a 5 usando for:\")\n",
                "for i in range(1, 6):\n",
                "    print(i)\n",
                "\n",
                "print(\"Contagem regressiva de 5 a 1 usando while:\")\n",
                "contador = 5\n",
                "while contador > 0:\n",
                "    print(contador)\n",
                "    contador -= 1"
            ]
        },
        {
            "cell_type": "code",
            "execution_count": 15,
            "metadata": {},
            "outputs": [
                {
                    "name": "stdout",
                    "output_type": "stream",
                    "text": [
                        "Lista original: [1, 2, 3, 4, 5]\n",
                        "Lista após adicionar um elemento: [1, 2, 3, 4, 5, 6]\n",
                        "Elemento na posição 2: 3\n"
                    ]
                }
            ],
            "source": [
                "# 5. Listas\n",
                "lista = [1, 2, 3, 4, 5]\n",
                "print(\"Lista original:\", lista)\n",
                "lista.append(6)\n",
                "print(\"Lista após adicionar um elemento:\", lista)\n",
                "print(\"Elemento na posição 2:\", lista[2])"
            ]
        },
        {
            "cell_type": "code",
            "execution_count": 16,
            "metadata": {},
            "outputs": [
                {
                    "name": "stdout",
                    "output_type": "stream",
                    "text": [
                        "Dicionário: {'nome': 'Alice', 'idade': 25, 'cidade': 'São Paulo'}\n",
                        "Nome: Alice\n"
                    ]
                }
            ],
            "source": [
                "# 6. Dicionários\n",
                "dicionario = {\"nome\": \"Alice\", \"idade\": 25, \"cidade\": \"São Paulo\"}\n",
                "print(\"Dicionário:\", dicionario)\n",
                "print(\"Nome:\", dicionario[\"nome\"])"
            ]
        },
        {
            "cell_type": "code",
            "execution_count": 17,
            "metadata": {},
            "outputs": [
                {
                    "name": "stdout",
                    "output_type": "stream",
                    "text": [
                        "Olá, Carlos! Seja bem-vindo ao Python.\n"
                    ]
                }
            ],
            "source": [
                "# 7. Funções\n",
                "def saudacao(nome):\n",
                "    return f\"Olá, {nome}! Seja bem-vindo ao Python.\"\n",
                "\n",
                "print(saudacao(\"Carlos\"))"
            ]
        },
        {
            "cell_type": "code",
            "execution_count": 18,
            "metadata": {},
            "outputs": [
                {
                    "name": "stdout",
                    "output_type": "stream",
                    "text": [
                        "Meu nome é Maria e tenho 30 anos.\n"
                    ]
                }
            ],
            "source": [
                "# 8. Classes e Objetos\n",
                "class Pessoa:\n",
                "    def __init__(self, nome, idade):\n",
                "        self.nome = nome\n",
                "        self.idade = idade\n",
                "    \n",
                "    def apresentar(self):\n",
                "        return f\"Meu nome é {self.nome} e tenho {self.idade} anos.\"\n",
                "\n",
                "pessoa1 = Pessoa(\"Maria\", 30)\n",
                "print(pessoa1.apresentar())"
            ]
        },
        {
            "cell_type": "markdown",
            "metadata": {},
            "source": [
                "# Exercícios\n",
                "\n",
                "# 📋 Enunciado: Sistema de Categorização Numérica\n",
                "\n",
                "## 🎯 Objetivo\n",
                "Desenvolver um programa em Python que categorize números inteiros em pares e ímpares, apresentando os resultados de forma clara e organizada.\n",
                "\n",
                "## 📝 Tarefas\n",
                "\n",
                "### 1️⃣ Entrada \n",
                "- Receber uma lista de inteiros: `[n1, n2, n3, ..., nN]`\n",
                "\n",
                "### 2️⃣ Classificação dos Números\n",
                "- Criar um dicionário contendo os valores de números pares e ímpares.\n",
                "```python\n",
                "{\n",
                "    \"pares\": [lista_de_pares],\n",
                "    \"impares\": [lista_de_impares]\n",
                "}\n",
                "\n",
                "```\n",
                "\n",
                "### 3️⃣ Estruturação dos Resultados\n",
                "- Imprima o dicionário e a soma de cada grupo\n"
            ]
        }
    ],
    "metadata": {
        "kernelspec": {
            "display_name": "aulas_pos",
            "language": "python",
            "name": "python3"
        },
        "language_info": {
            "codemirror_mode": {
                "name": "ipython",
                "version": 3
            },
            "file_extension": ".py",
            "mimetype": "text/x-python",
            "name": "python",
            "nbconvert_exporter": "python",
            "pygments_lexer": "ipython3",
            "version": "3.11.8"
        }
    },
    "nbformat": 4,
    "nbformat_minor": 4
}
